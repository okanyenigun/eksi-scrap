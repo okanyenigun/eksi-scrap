{
 "cells": [
  {
   "cell_type": "code",
   "execution_count": null,
   "metadata": {},
   "outputs": [],
   "source": [
    "binary_location = \".../Google Chrome Canary\""
   ]
  },
  {
   "cell_type": "code",
   "execution_count": null,
   "metadata": {},
   "outputs": [],
   "source": [
    "from eksiminer import get_gundem\n",
    "\n",
    "results = get_gundem(binary_location=binary_location)\n",
    "\n",
    "print(len(results))"
   ]
  },
  {
   "cell_type": "code",
   "execution_count": null,
   "metadata": {},
   "outputs": [],
   "source": [
    "results = get_gundem(binary_location=binary_location, headline=\"siyaset\")\n",
    "\n",
    "print(len(results))"
   ]
  },
  {
   "cell_type": "code",
   "execution_count": null,
   "metadata": {},
   "outputs": [],
   "source": [
    "from eksiminer import TopicScraper\n",
    "\n",
    "topic = \"Ekrem İmamoğlu\"\n",
    "\n",
    "scraper = TopicScraper(binary_location=binary_location)\n",
    "\n",
    "results = scraper.scrape(topic=topic, max_page_limit=3, reverse=True)\n",
    "\n",
    "print(len(results))"
   ]
  },
  {
   "cell_type": "code",
   "execution_count": null,
   "metadata": {},
   "outputs": [],
   "source": [
    "from eksiminer import get_debe_list\n",
    "\n",
    "results = get_debe_list(binary_location=binary_location)\n",
    "\n",
    "print(len(results))"
   ]
  },
  {
   "cell_type": "code",
   "execution_count": null,
   "metadata": {},
   "outputs": [],
   "source": [
    "from eksiminer import get_entry_from_url\n",
    "\n",
    "url = \"https://eksisozluk.com/entry/173974269\"\n",
    "\n",
    "result = get_entry_from_url(url=url, binary_location=binary_location)\n",
    "\n",
    "print(result)"
   ]
  },
  {
   "cell_type": "code",
   "execution_count": null,
   "metadata": {},
   "outputs": [],
   "source": [
    "from eksiminer import AuthorScraper\n",
    "\n",
    "author = \"seven years in tibet\"\n",
    "\n",
    "scraper = AuthorScraper(binary_location=binary_location)\n",
    "\n",
    "entries = scraper.scrape(author=author, number_endless_scroll=3)\n",
    "\n",
    "print(len(entries))"
   ]
  },
  {
   "cell_type": "code",
   "execution_count": null,
   "metadata": {},
   "outputs": [],
   "source": [
    "from eksiminer import TopicUrlService\n",
    "\n",
    "urls = [\n",
    "    \"https://eksisozluk.com/29-temmuz-2025-ozgur-ozel-komisyon-aciklamasi--8009885?a=popular\",\n",
    "    \"https://eksisozluk.com/arabada-ideal-klima-derecesi--6157779?a=popular\"\n",
    "]\n",
    "\n",
    "scraper = TopicUrlService(binary_location=binary_location)\n",
    "\n",
    "entries = scraper.scrape(urls=urls, max_page_limit=2, reverse=True)\n",
    "\n",
    "print(len(entries))"
   ]
  },
  {
   "cell_type": "code",
   "execution_count": null,
   "metadata": {},
   "outputs": [],
   "source": []
  }
 ],
 "metadata": {
  "kernelspec": {
   "display_name": "venv (3.11.5)",
   "language": "python",
   "name": "python3"
  },
  "language_info": {
   "codemirror_mode": {
    "name": "ipython",
    "version": 3
   },
   "file_extension": ".py",
   "mimetype": "text/x-python",
   "name": "python",
   "nbconvert_exporter": "python",
   "pygments_lexer": "ipython3",
   "version": "3.11.5"
  }
 },
 "nbformat": 4,
 "nbformat_minor": 2
}

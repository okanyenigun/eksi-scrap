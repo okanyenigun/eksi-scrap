{
 "cells": [
  {
   "cell_type": "code",
   "execution_count": null,
   "metadata": {},
   "outputs": [],
   "source": [
    "binary_location = None"
   ]
  },
  {
   "cell_type": "code",
   "execution_count": null,
   "metadata": {},
   "outputs": [],
   "source": [
    "from eksiminer import get_gundem\n",
    "\n",
    "results = get_gundem(binary_location=binary_location)\n",
    "\n",
    "print(len(results))"
   ]
  },
  {
   "cell_type": "code",
   "execution_count": null,
   "metadata": {},
   "outputs": [],
   "source": [
    "from eksiminer import EntryScraper\n",
    "\n",
    "topic = \"Ekrem İmamoğlu\"\n",
    "\n",
    "scraper = EntryScraper(topic=topic, binary_location=binary_location, max_page_limit=3, reverse=True)\n",
    "entries = scraper.scrape()\n",
    "\n",
    "print(len(entries))"
   ]
  },
  {
   "cell_type": "code",
   "execution_count": null,
   "metadata": {},
   "outputs": [],
   "source": [
    "from eksiminer import get_debe_list\n",
    "\n",
    "debes = get_debe_list(binary_location=binary_location)\n",
    "\n",
    "print(len(debes))"
   ]
  },
  {
   "cell_type": "code",
   "execution_count": null,
   "metadata": {},
   "outputs": [],
   "source": [
    "from eksiminer import get_entry_from_url\n",
    "\n",
    "url = \"https://eksisozluk.com/entry/173974269\"\n",
    "\n",
    "entry = get_entry_from_url(url=url, binary_location=binary_location)\n",
    "\n",
    "print(entry)"
   ]
  },
  {
   "cell_type": "code",
   "execution_count": null,
   "metadata": {},
   "outputs": [],
   "source": [
    "from eksiminer import AuthorScraper\n",
    "\n",
    "author = \"seven years in tibet\"\n",
    "\n",
    "scraper = AuthorScraper(author=author, click_threshold=3, binary_location=binary_location)\n",
    "\n",
    "entries = scraper.scrape()\n",
    "\n",
    "print(len(entries))"
   ]
  }
 ],
 "metadata": {
  "kernelspec": {
   "display_name": "venv",
   "language": "python",
   "name": "python3"
  },
  "language_info": {
   "codemirror_mode": {
    "name": "ipython",
    "version": 3
   },
   "file_extension": ".py",
   "mimetype": "text/x-python",
   "name": "python",
   "nbconvert_exporter": "python",
   "pygments_lexer": "ipython3",
   "version": "3.11.5"
  }
 },
 "nbformat": 4,
 "nbformat_minor": 2
}
